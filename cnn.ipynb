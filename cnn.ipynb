{
 "cells": [
  {
   "cell_type": "code",
   "execution_count": 1,
   "id": "0016a1e0-a817-45db-9a5c-e4e192ad32ba",
   "metadata": {},
   "outputs": [],
   "source": [
    "import numpy as np\n",
    "import tensorflow as tf\n",
    "from tensorflow.keras import datasets, layers, models\n",
    "import matplotlib.pyplot as plt\n",
    "from PIL import Image"
   ]
  },
  {
   "cell_type": "code",
   "execution_count": 2,
   "id": "8f09b12d-a660-4dc8-8fb6-f1cd1dc0d887",
   "metadata": {},
   "outputs": [],
   "source": [
    "# Load the MNIST dataset\n",
    "(train_images, train_labels), (test_images, test_labels) = tf.keras.datasets.mnist.load_data()\n",
    "\n",
    "# Normalize the images to [0, 1] range by dividing by 255\n",
    "train_images = train_images.astype('float32') / 255.0\n",
    "test_images = test_images.astype('float32') / 255.0\n",
    "\n",
    "# Reshape the data to add a channel dimension (for grayscale images)\n",
    "train_images = np.expand_dims(train_images, axis=-1)\n",
    "test_images = np.expand_dims(test_images, axis=-1)\n",
    "\n",
    "# One-hot encode the labels for loss function\n",
    "train_labels = tf.keras.utils.to_categorical(train_labels, 10)\n",
    "test_labels = tf.keras.utils.to_categorical(test_labels, 10)"
   ]
  },
  {
   "cell_type": "code",
   "execution_count": 3,
   "id": "542ced58-8097-4541-88e0-68bdd82fe576",
   "metadata": {},
   "outputs": [],
   "source": [
    "def display_image(dataset, index):\n",
    "    plt.matshow(dataset[index])"
   ]
  },
  {
   "cell_type": "code",
   "execution_count": 4,
   "id": "446619c8-796d-4424-aca0-556b8c61d9b6",
   "metadata": {},
   "outputs": [
    {
     "data": {
      "text/plain": [
       "array([0., 0., 0., 1., 0., 0., 0., 0., 0., 0.], dtype=float32)"
      ]
     },
     "execution_count": 4,
     "metadata": {},
     "output_type": "execute_result"
    },
    {
     "data": {
      "image/png": "[encoded data removed]",
      "text/plain": [
       "<Figure size 480x480 with 1 Axes>"
      ]
     },
     "metadata": {},
     "output_type": "display_data"
    }
   ],
   "source": [
    "display_image(train_images, 7)\n",
    "train_labels[7]"
   ]
  },
  {
   "cell_type": "code",
   "execution_count": 5,
   "id": "26755f63-6f82-46bf-9614-26c4c545a042",
   "metadata": {},
   "outputs": [
    {
     "data": {
      "text/plain": [
       "(60000, 28, 28, 1)"
      ]
     },
     "execution_count": 5,
     "metadata": {},
     "output_type": "execute_result"
    }
   ],
   "source": [
    "train_images.shape"
   ]
  },
  {
   "cell_type": "code",
   "execution_count": 6,
   "id": "d9cb1286-0fd6-4df7-a1ce-ace0a71025c3",
   "metadata": {},
   "outputs": [],
   "source": [
    "model = models.Sequential([ # Sequential = linear stack of layers where each layer's output is passed as input to the next layer\n",
    "    # 32 filters = 32 matrices each used to detect an edge or feature\n",
    "    # 3x3 is the size of each filter, stride = the # of pixels by which the filter moves over the input data\n",
    "    layers.Conv2D(32, (3, 3), activation='relu', input_shape=(28, 28, 1)), # 3 dimensions is standard\n",
    "    layers.MaxPooling2D((2, 2)), # the # of filters increases in order to capture the combination of simpler features into more complex patterns\n",
    "    layers.Conv2D(64, (3, 3), activation='relu'), # 32 and 64 are typical for filters because they strike a good balance between model capacity and computational efficiency\n",
    "    layers.MaxPooling2D((2, 2)), # \n",
    "    layers.Conv2D(64, (3, 3), activation='relu'), # I don't understand what 'relu' is\n",
    "    layers.Flatten(), # must flatten because dense layers expect a one dimensional input\n",
    "    layers.Dense(64, activation='relu'), # Dense layers are where the network learns to combine the abstracted features into a meaningful prediction\n",
    "    layers.Dense(10, activation='softmax') # The final dense layer has 10 units, corresponding to the 10 possible output classes\n",
    "]) # set KMP_DUPLICATE_LIB_OK=TRUE"
   ]
  },
  {
   "cell_type": "code",
   "execution_count": 7,
   "id": "556c918a-640d-48c3-8307-1364bc194987",
   "metadata": {},
   "outputs": [],
   "source": [
    "model.compile(optimizer='adam',\n",
    "              loss='categorical_crossentropy',\n",
    "              metrics=['accuracy'])"
   ]
  },
  {
   "cell_type": "code",
   "execution_count": 8,
   "id": "6da85652-0e87-43e3-92ff-375f180f71c3",
   "metadata": {},
   "outputs": [
    {
     "name": "stdout",
     "output_type": "stream",
     "text": [
      "Epoch 1/20\n",
      "938/938 [==============================] - 18s 18ms/step - loss: 0.1911 - accuracy: 0.9399 - val_loss: 0.0617 - val_accuracy: 0.9812\n",
      "Epoch 2/20\n",
      "938/938 [==============================] - 19s 21ms/step - loss: 0.0511 - accuracy: 0.9847 - val_loss: 0.0338 - val_accuracy: 0.9894\n",
      "Epoch 3/20\n",
      "938/938 [==============================] - 20s 21ms/step - loss: 0.0363 - accuracy: 0.9886 - val_loss: 0.0338 - val_accuracy: 0.9891\n",
      "Epoch 4/20\n",
      "938/938 [==============================] - 20s 21ms/step - loss: 0.0282 - accuracy: 0.9911 - val_loss: 0.0319 - val_accuracy: 0.9899\n",
      "Epoch 5/20\n",
      "938/938 [==============================] - 20s 21ms/step - loss: 0.0221 - accuracy: 0.9930 - val_loss: 0.0261 - val_accuracy: 0.9917\n",
      "Epoch 6/20\n",
      "938/938 [==============================] - 20s 22ms/step - loss: 0.0191 - accuracy: 0.9939 - val_loss: 0.0284 - val_accuracy: 0.9919\n",
      "Epoch 7/20\n",
      "938/938 [==============================] - 20s 22ms/step - loss: 0.0158 - accuracy: 0.9950 - val_loss: 0.0304 - val_accuracy: 0.9908\n",
      "Epoch 8/20\n",
      "938/938 [==============================] - 21s 22ms/step - loss: 0.0135 - accuracy: 0.9954 - val_loss: 0.0237 - val_accuracy: 0.9925\n",
      "Epoch 9/20\n",
      "938/938 [==============================] - 21s 22ms/step - loss: 0.0108 - accuracy: 0.9965 - val_loss: 0.0300 - val_accuracy: 0.9920\n",
      "Epoch 10/20\n",
      "938/938 [==============================] - 21s 22ms/step - loss: 0.0095 - accuracy: 0.9966 - val_loss: 0.0309 - val_accuracy: 0.9921\n",
      "Epoch 11/20\n",
      "938/938 [==============================] - 21s 23ms/step - loss: 0.0094 - accuracy: 0.9968 - val_loss: 0.0323 - val_accuracy: 0.9911\n",
      "Epoch 12/20\n",
      "938/938 [==============================] - 21s 23ms/step - loss: 0.0069 - accuracy: 0.9977 - val_loss: 0.0368 - val_accuracy: 0.9902\n",
      "Epoch 13/20\n",
      "938/938 [==============================] - 21s 22ms/step - loss: 0.0065 - accuracy: 0.9979 - val_loss: 0.0512 - val_accuracy: 0.9881\n",
      "Epoch 14/20\n",
      "938/938 [==============================] - 22s 23ms/step - loss: 0.0069 - accuracy: 0.9977 - val_loss: 0.0279 - val_accuracy: 0.9935\n",
      "Epoch 15/20\n",
      "938/938 [==============================] - 22s 23ms/step - loss: 0.0049 - accuracy: 0.9985 - val_loss: 0.0449 - val_accuracy: 0.9904\n",
      "Epoch 16/20\n",
      "938/938 [==============================] - 22s 24ms/step - loss: 0.0064 - accuracy: 0.9977 - val_loss: 0.0376 - val_accuracy: 0.9918\n",
      "Epoch 17/20\n",
      "938/938 [==============================] - 22s 24ms/step - loss: 0.0051 - accuracy: 0.9983 - val_loss: 0.0428 - val_accuracy: 0.9911\n",
      "Epoch 18/20\n",
      "938/938 [==============================] - 22s 24ms/step - loss: 0.0048 - accuracy: 0.9985 - val_loss: 0.0464 - val_accuracy: 0.9902\n",
      "Epoch 19/20\n",
      "938/938 [==============================] - 22s 24ms/step - loss: 0.0054 - accuracy: 0.9984 - val_loss: 0.0392 - val_accuracy: 0.9921\n",
      "Epoch 20/20\n",
      "938/938 [==============================] - 23s 24ms/step - loss: 0.0051 - accuracy: 0.9981 - val_loss: 0.0317 - val_accuracy: 0.9934\n"
     ]
    }
   ],
   "source": [
    "history = model.fit(train_images, train_labels, epochs=20, batch_size=64, validation_data=(test_images, test_labels)) # Mini-Batch Gradient Descent"
   ]
  },
  {
   "cell_type": "code",
   "execution_count": 9,
   "id": "32561379-fbe2-49b4-857b-d98f96f1a8d4",
   "metadata": {},
   "outputs": [
    {
     "name": "stdout",
     "output_type": "stream",
     "text": [
      "313/313 [==============================] - 2s 6ms/step - loss: 0.0317 - accuracy: 0.9934\n",
      "Test accuracy: 0.993399977684021\n"
     ]
    }
   ],
   "source": [
    "test_loss, test_acc = model.evaluate(test_images, test_labels)\n",
    "print(f\"Test accuracy: {test_acc}\")"
   ]
  },
  {
   "cell_type": "code",
   "execution_count": 10,
   "id": "6a51342a-04eb-45bd-80e2-0045336201fe",
   "metadata": {},
   "outputs": [
    {
     "name": "stdout",
     "output_type": "stream",
     "text": [
      "313/313 [==============================] - 2s 6ms/step\n"
     ]
    }
   ],
   "source": [
    "predictions = model.predict(test_images) # an array of probabilities for each class, predict expects a batch of data or images"
   ]
  },
  {
   "cell_type": "code",
   "execution_count": 14,
   "id": "a5ceec58-c00a-44d5-b6f0-337ba0ab93a4",
   "metadata": {},
   "outputs": [
    {
     "data": {
      "image/png": "[encoded data removed]",
      "text/plain": [
       "<Figure size 600x300 with 1 Axes>"
      ]
     },
     "metadata": {},
     "output_type": "display_data"
    }
   ],
   "source": [
    "def show_image(i, predictions_array, true_label, img):\n",
    "    predictions_array, true_label, img = predictions_array[i], true_label[i], img[i]\n",
    "    plt.grid(False)\n",
    "    plt.xticks([])\n",
    "    plt.yticks([])\n",
    "\n",
    "    plt.imshow(img[...,0], cmap=plt.cm.binary)\n",
    "\n",
    "    predicted_label = np.argmax(predictions_array)\n",
    "    if predicted_label == np.argmax(true_label):\n",
    "        color = 'blue'\n",
    "    else:\n",
    "        color = 'red'\n",
    "\n",
    "    plt.xlabel(f\"{predicted_label} ({100*np.max(predictions_array):.2f}%)\", color=color)\n",
    "\n",
    "i = 104\n",
    "plt.figure(figsize=(6,3))\n",
    "plt.subplot(1,2,1)\n",
    "show_image(i, predictions, test_labels, test_images)\n",
    "plt.show()"
   ]
  },
  {
   "cell_type": "code",
   "execution_count": 15,
   "id": "dd3140f8-fcd2-4c5b-88dc-9ab2c84a561d",
   "metadata": {},
   "outputs": [
    {
     "data": {
      "image/png": "[encoded data removed]",
      "text/plain": [
       "<Figure size 640x480 with 1 Axes>"
      ]
     },
     "metadata": {},
     "output_type": "display_data"
    }
   ],
   "source": [
    "my_image = Image.open(\"C:/Users/HP/Desktop/MNIST/mnist_project/output_image.png\").convert(\"L\")\n",
    "\n",
    "plt.imshow(my_image);\n",
    "plt.axis('off')  # Hide the axes\n",
    "plt.show()"
   ]
  },
  {
   "cell_type": "code",
   "execution_count": 16,
   "id": "bf93a8f4-0d21-4120-9180-0a4f397a9d73",
   "metadata": {},
   "outputs": [],
   "source": [
    "my_image = my_image.resize((28, 28))  # Resize to 28x28\n",
    "img_array = np.array(my_image) / 255.0  # Normalize pixel values\n",
    "img_array = img_array.reshape(1, 28, 28, 1)  # Reshape for the neural network"
   ]
  },
  {
   "cell_type": "code",
   "execution_count": 17,
   "id": "8361889b-338b-4e49-ab50-b99948d379f7",
   "metadata": {},
   "outputs": [
    {
     "data": {
      "image/png": "[encoded data removed]",
      "text/plain": [
       "<Figure size 640x480 with 1 Axes>"
      ]
     },
     "metadata": {},
     "output_type": "display_data"
    },
    {
     "data": {
      "text/plain": [
       "(1, 28, 28, 1)"
      ]
     },
     "execution_count": 17,
     "metadata": {},
     "output_type": "execute_result"
    }
   ],
   "source": [
    "plt.imshow(my_image);\n",
    "plt.axis('off')  # Hide the axes\n",
    "plt.show()\n",
    "\n",
    "img_array.shape"
   ]
  },
  {
   "cell_type": "code",
   "execution_count": 18,
   "id": "cecbbee8-1daa-4940-aaa8-5490e6363b9e",
   "metadata": {},
   "outputs": [
    {
     "name": "stdout",
     "output_type": "stream",
     "text": [
      "1/1 [==============================] - 0s 22ms/step\n"
     ]
    }
   ],
   "source": [
    "my_predictions = model.predict(img_array)\n",
    "squeezed_predictions = np.squeeze(my_predictions, axis=0)"
   ]
  },
  {
   "cell_type": "code",
   "execution_count": 19,
   "id": "51f1ac1f-cfa4-45f1-aacb-3025cce5d471",
   "metadata": {},
   "outputs": [
    {
     "name": "stdout",
     "output_type": "stream",
     "text": [
      "Predicted Digit: 5\n",
      "Confidence Per Digit: {0: 6.916292e-06, 1: 0.0015645407, 2: 0.023388363, 3: 0.07225964, 4: 3.6739976e-07, 5: 0.8092079, 6: 0.019578952, 7: 9.235906e-06, 8: 0.07239059, 9: 0.0015934065}\n"
     ]
    }
   ],
   "source": [
    "print(f'Predicted Digit: {np.argmax(my_predictions)}')\n",
    "print('Confidence Per Digit: ' + str({i: squeezed_predictions[i] for i in range(0,10)}))"
   ]
  },
  {
   "cell_type": "code",
   "execution_count": 20,
   "id": "733ab86b-c3c6-49d5-b18b-7a79f9cb4e4c",
   "metadata": {},
   "outputs": [],
   "source": [
    "model.save('my_cnn_model.h5')"
   ]
  },
  {
   "cell_type": "code",
   "execution_count": null,
   "id": "fb80e781-7aae-4035-931b-6e9fe6e71a9e",
   "metadata": {},
   "outputs": [],
   "source": []
  }
 ],
 "metadata": {
  "kernelspec": {
   "display_name": "Python 3 (ipykernel)",
   "language": "python",
   "name": "python3"
  },
  "language_info": {
   "codemirror_mode": {
    "name": "ipython",
    "version": 3
   },
   "file_extension": ".py",
   "mimetype": "text/x-python",
   "name": "python",
   "nbconvert_exporter": "python",
   "pygments_lexer": "ipython3",
   "version": "3.9.18"
  }
 },
 "nbformat": 4,
 "nbformat_minor": 5
}
